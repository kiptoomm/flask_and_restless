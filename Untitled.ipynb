{
 "cells": [
  {
   "cell_type": "code",
   "execution_count": 1,
   "metadata": {},
   "outputs": [
    {
     "name": "stdout",
     "output_type": "stream",
     "text": [
      "201\n"
     ]
    }
   ],
   "source": [
    "import requests\n",
    "import json\n",
    "\n",
    "payload = { \n",
    "    'title': \"The Eye of the World\",\n",
    "    'author': {\n",
    "        'first_name': \"Robert\",\n",
    "        'last_name': \"Jordan\"\n",
    "        },  \n",
    "    'is_available': True\n",
    "}\n",
    "\n",
    "headers = {'content-type': 'application/json'}\n",
    "r = requests.post(\"http://localhost:5000/api/book\", data=json.dumps(payload),headers=headers)\n",
    "print r.status_code"
   ]
  },
  {
   "cell_type": "code",
   "execution_count": null,
   "metadata": {
    "collapsed": true
   },
   "outputs": [],
   "source": []
  }
 ],
 "metadata": {
  "kernelspec": {
   "display_name": "virtualenv",
   "language": "python",
   "name": "virtualenv"
  },
  "language_info": {
   "codemirror_mode": {
    "name": "ipython",
    "version": 2
   },
   "file_extension": ".py",
   "mimetype": "text/x-python",
   "name": "python",
   "nbconvert_exporter": "python",
   "pygments_lexer": "ipython2",
   "version": "2.7.10"
  }
 },
 "nbformat": 4,
 "nbformat_minor": 2
}
